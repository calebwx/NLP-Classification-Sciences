{
 "cells": [
  {
   "cell_type": "code",
   "execution_count": 36,
   "metadata": {},
   "outputs": [],
   "source": [
    "import numpy as np\n",
    "import pandas as pd\n",
    "import matplotlib.pyplot as plt\n",
    "import seaborn as sns\n",
    "\n",
    "from sklearn.metrics import confusion_matrix"
   ]
  },
  {
   "cell_type": "markdown",
   "metadata": {},
   "source": [
    "##### This notebook imports the predictions made by the majority-rules voting system and provides a function to quickly look at a random post and see how the models voted.\n",
    "\n",
    "There are also dataframes containing each of 6 categories of miscategorized posts.\n",
    "\n",
    "Additionally, a function to print classification metrics for each individual class has been written and called with the proper parameters to calculate those metrics."
   ]
  },
  {
   "cell_type": "code",
   "execution_count": 10,
   "metadata": {},
   "outputs": [],
   "source": [
    "predictions = pd.read_csv('data/BCP_predictions.csv')"
   ]
  },
  {
   "cell_type": "code",
   "execution_count": 11,
   "metadata": {},
   "outputs": [],
   "source": [
    "mislabeled = predictions[predictions['vote'] != predictions['y_true']]"
   ]
  },
  {
   "cell_type": "markdown",
   "metadata": {},
   "source": [
    "### Function Definitions"
   ]
  },
  {
   "cell_type": "code",
   "execution_count": 28,
   "metadata": {},
   "outputs": [],
   "source": [
    "def print_post(df):\n",
    "    post = df.sample(n=1)\n",
    "    bcp_map = {0 : 'Biology', 1 : 'Chemistry', 2 : 'Physics'}\n",
    "    \n",
    "    labeled = post['vote'].map(bcp_map).item()\n",
    "    actual = post['y_true'].map(bcp_map).item()\n",
    "    title= post['title'].item()\n",
    "    text = post['selftext'].item()\n",
    "    \n",
    "    print('Votes : NB - %d SVC - %d Ada - %d' %(post['nb'], post['svc'], post['ada']))\n",
    "    print(f'Labeled as : {labeled}')\n",
    "    print(f'Posted in  : {actual}')\n",
    "    print(f'TITLE: {title}')\n",
    "    print(f'TEXT : {text}')\n",
    "    print('-----------------------------------------------------')"
   ]
  },
  {
   "cell_type": "code",
   "execution_count": 57,
   "metadata": {},
   "outputs": [],
   "source": [
    "def print_metrics(name, t_pos, t_neg, f_pos, f_neg):\n",
    "    \n",
    "    #these values are passed as lists since there are multiple types of misclassifications that fall under each category\n",
    "    t_neg = sum(t_neg)\n",
    "    f_pos = sum(f_pos)\n",
    "    f_neg = sum(f_neg)\n",
    "    \n",
    "    metrics_dict = {\n",
    "        'Accuracy' : (t_pos + t_neg) / (t_pos + t_neg + f_pos + f_neg),\n",
    "        'Misclassification' : (f_pos + f_neg) / (t_pos + t_neg + f_pos + f_neg),\n",
    "        'Sensitivity' : (t_pos) / (t_pos + f_neg),\n",
    "        'Specificity' : (t_neg) / (t_neg + f_pos),\n",
    "        'Precision' : (t_pos) / (t_pos + f_pos)\n",
    "        }\n",
    "    \n",
    "    print(f'Metrics for {name} :')\n",
    "    for met in metrics_dict:\n",
    "        print(f'{met} : {round(metrics_dict[met],4)}')"
   ]
  },
  {
   "cell_type": "markdown",
   "metadata": {},
   "source": [
    "# Mislabeled Post Content"
   ]
  },
  {
   "cell_type": "code",
   "execution_count": 29,
   "metadata": {},
   "outputs": [],
   "source": [
    "pred_bio_true_phy = mislabeled.loc[(mislabeled['vote'] == 0) & (mislabeled['y_true'] == 2)]\n",
    "pred_bio_true_chm = mislabeled.loc[(mislabeled['vote'] == 0) & (mislabeled['y_true'] == 1)]\n",
    "pred_chm_true_phy = mislabeled.loc[(mislabeled['vote'] == 1) & (mislabeled['y_true'] == 2)]\n",
    "pred_chm_true_bio = mislabeled.loc[(mislabeled['vote'] == 1) & (mislabeled['y_true'] == 0)]\n",
    "pred_phy_true_chm = mislabeled.loc[(mislabeled['vote'] == 2) & (mislabeled['y_true'] == 1)]\n",
    "pred_phy_true_bio = mislabeled.loc[(mislabeled['vote'] == 2) & (mislabeled['y_true'] == 0)]"
   ]
  },
  {
   "cell_type": "code",
   "execution_count": 30,
   "metadata": {},
   "outputs": [
    {
     "name": "stdout",
     "output_type": "stream",
     "text": [
      "Votes : NB - 0 SVC - 0 Ada - 1\n",
      "Labeled as : Biology\n",
      "Posted in  : Chemistry\n",
      "TITLE: Chemist-turned-intelligence expert Rod Schoonover on climate change and COVID-19\n",
      "TEXT : nan\n",
      "-----------------------------------------------------\n"
     ]
    }
   ],
   "source": [
    "print_post(pred_bio_true_chm)"
   ]
  },
  {
   "cell_type": "code",
   "execution_count": 31,
   "metadata": {},
   "outputs": [
    {
     "name": "stdout",
     "output_type": "stream",
     "text": [
      "Votes : NB - 2 SVC - 0 Ada - 0\n",
      "Labeled as : Biology\n",
      "Posted in  : Physics\n",
      "TITLE: is dE=dE cos theta i^ +d E sin theta j^ correct?\n",
      "TEXT : nan\n",
      "-----------------------------------------------------\n"
     ]
    }
   ],
   "source": [
    "print_post(pred_bio_true_phy)"
   ]
  },
  {
   "cell_type": "code",
   "execution_count": 32,
   "metadata": {},
   "outputs": [
    {
     "name": "stdout",
     "output_type": "stream",
     "text": [
      "Votes : NB - 1 SVC - 1 Ada - 1\n",
      "Labeled as : Chemistry\n",
      "Posted in  : Biology\n",
      "TITLE: Does the pH location for a receipe of a buffer matter?\n",
      "TEXT : Hi guy, I am trying to make two buffers with the following recipe:\n",
      "\n",
      "1. 50 mM HEPES, 700 mM NaCl,12.5 mM CaCl2, pH 7.4\n",
      "2. 100 mM Tris, pH 7.4, 150 mM NaCl, 1 mM CaCl2, 0.5 mM MgCl2, 0.1% Nonidet P-40\n",
      "\n",
      "I notice that the pHs are at different positions. I wonder if that difference matters? My understanding is they both indicate the pH of the final solution with all components. I just want to make sure I am correct. Thanks.\n",
      "\n",
      "[View Poll](https://www.reddit.com/poll/hdfzbi)\n",
      "-----------------------------------------------------\n"
     ]
    }
   ],
   "source": [
    "print_post(pred_chm_true_bio)"
   ]
  },
  {
   "cell_type": "code",
   "execution_count": 33,
   "metadata": {},
   "outputs": [
    {
     "name": "stdout",
     "output_type": "stream",
     "text": [
      "Votes : NB - 1 SVC - 1 Ada - 0\n",
      "Labeled as : Chemistry\n",
      "Posted in  : Physics\n",
      "TITLE: does any one know what is the weird symbol called\n",
      "TEXT : nan\n",
      "-----------------------------------------------------\n"
     ]
    }
   ],
   "source": [
    "print_post(pred_chm_true_phy)"
   ]
  },
  {
   "cell_type": "code",
   "execution_count": 34,
   "metadata": {},
   "outputs": [
    {
     "name": "stdout",
     "output_type": "stream",
     "text": [
      "Votes : NB - 2 SVC - 0 Ada - 2\n",
      "Labeled as : Physics\n",
      "Posted in  : Biology\n",
      "TITLE: What exactly is Computational Neuroscience?\n",
      "TEXT : I'm thinking of researching in that field of study, but I would like to know some more about the topic. Could someone point me in the right direction?\n",
      "-----------------------------------------------------\n"
     ]
    }
   ],
   "source": [
    "print_post(pred_phy_true_bio)"
   ]
  },
  {
   "cell_type": "code",
   "execution_count": 35,
   "metadata": {},
   "outputs": [
    {
     "name": "stdout",
     "output_type": "stream",
     "text": [
      "Votes : NB - 2 SVC - 2 Ada - 1\n",
      "Labeled as : Physics\n",
      "Posted in  : Chemistry\n",
      "TITLE: ISOLDE reveals fundamental property of rarest element on Earth\n",
      "TEXT : nan\n",
      "-----------------------------------------------------\n"
     ]
    }
   ],
   "source": [
    "print_post(pred_phy_true_chm)"
   ]
  },
  {
   "cell_type": "markdown",
   "metadata": {},
   "source": [
    "# Classification Metrics"
   ]
  },
  {
   "cell_type": "code",
   "execution_count": 40,
   "metadata": {},
   "outputs": [],
   "source": [
    "# Get values from a confusion matrix\n",
    "# where t = true, f = false\n",
    "# b = biology, c = chemistry, p = physics\n",
    "# fc_b means false chemistry actually biology. it is a false positive for chemistry, a true negative for physics, and a false negative for biology\n",
    "\n",
    "tb, fc_b, fp_b, fb_c, tc, fp_c, fb_p, fc_p, tp = confusion_matrix(predictions['y_true'], predictions['vote']).ravel()"
   ]
  },
  {
   "cell_type": "code",
   "execution_count": 58,
   "metadata": {},
   "outputs": [
    {
     "name": "stdout",
     "output_type": "stream",
     "text": [
      "Metrics for Biology :\n",
      "Accuracy : 0.9186\n",
      "Misclassification : 0.0814\n",
      "Sensitivity : 0.903\n",
      "Specificity : 0.9274\n",
      "Precision : 0.8755\n"
     ]
    }
   ],
   "source": [
    "print_metrics(\"Biology\", t_pos = tb, t_neg = [tc, tp, fc_p, fp_c], f_pos = [fb_c, fb_p], f_neg = [fc_b, fp_b])"
   ]
  },
  {
   "cell_type": "code",
   "execution_count": 59,
   "metadata": {},
   "outputs": [
    {
     "name": "stdout",
     "output_type": "stream",
     "text": [
      "Metrics for Chemistry :\n",
      "Accuracy : 0.9076\n",
      "Misclassification : 0.0924\n",
      "Sensitivity : 0.8623\n",
      "Specificity : 0.93\n",
      "Precision : 0.8585\n"
     ]
    }
   ],
   "source": [
    "print_metrics(\"Chemistry\", t_pos = tc, t_neg = [tb, tp, fb_p, fp_b], f_pos = [fc_b, fc_p], f_neg = [fb_c, fp_c])"
   ]
  },
  {
   "cell_type": "code",
   "execution_count": 60,
   "metadata": {},
   "outputs": [
    {
     "name": "stdout",
     "output_type": "stream",
     "text": [
      "Metrics for Physics :\n",
      "Accuracy : 0.9193\n",
      "Misclassification : 0.0807\n",
      "Sensitivity : 0.8485\n",
      "Specificity : 0.9509\n",
      "Precision : 0.8851\n"
     ]
    }
   ],
   "source": [
    "print_metrics(\"Physics\", t_pos = tp, t_neg = [tc, tb, fc_b, fb_c], f_pos = [fp_b, fp_c], f_neg = [fc_p, fb_p])"
   ]
  }
 ],
 "metadata": {
  "kernelspec": {
   "display_name": "Python 3",
   "language": "python",
   "name": "python3"
  },
  "language_info": {
   "codemirror_mode": {
    "name": "ipython",
    "version": 3
   },
   "file_extension": ".py",
   "mimetype": "text/x-python",
   "name": "python",
   "nbconvert_exporter": "python",
   "pygments_lexer": "ipython3",
   "version": "3.7.7"
  }
 },
 "nbformat": 4,
 "nbformat_minor": 4
}
